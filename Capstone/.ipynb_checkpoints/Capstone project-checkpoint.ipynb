{
 "cells": [
  {
   "cell_type": "markdown",
   "metadata": {},
   "source": [
    "# Machine Learning Engineer Nanodegree\n",
    "# Capstone Project\n"
   ]
  },
  {
   "cell_type": "markdown",
   "metadata": {
    "collapsed": true
   },
   "source": [
    "## Analysis\n",
    "------\n",
    "### Data Exploration\n",
    "\n",
    "We first import some libraries and our dataset containing information gathered using the official Meetup API.\n",
    "\n",
    "Our dataset is a list of users represented as Python dictionaries with the following information:\n",
    "- City\n",
    "- Id\n",
    "- Profile link\n",
    "- Name\n",
    "- Topics\n",
    "    - name\n",
    "    - urlkey\n",
    "    - id"
   ]
  },
  {
   "cell_type": "code",
   "execution_count": 1,
   "metadata": {
    "collapsed": false
   },
   "outputs": [
    {
     "data": {
      "text/html": [
       "<div>\n",
       "<table border=\"1\" class=\"dataframe\">\n",
       "  <thead>\n",
       "    <tr style=\"text-align: right;\">\n",
       "      <th></th>\n",
       "      <th>city</th>\n",
       "      <th>id</th>\n",
       "      <th>link</th>\n",
       "      <th>name</th>\n",
       "      <th>topics</th>\n",
       "    </tr>\n",
       "  </thead>\n",
       "  <tbody>\n",
       "    <tr>\n",
       "      <th>0</th>\n",
       "      <td>Miami</td>\n",
       "      <td>1837039</td>\n",
       "      <td>http://www.meetup.com/members/1837039</td>\n",
       "      <td>...Adeela!</td>\n",
       "      <td>[]</td>\n",
       "    </tr>\n",
       "    <tr>\n",
       "      <th>1</th>\n",
       "      <td>Miami</td>\n",
       "      <td>50171992</td>\n",
       "      <td>http://www.meetup.com/members/50171992</td>\n",
       "      <td>\"Jay\" - Jennifer</td>\n",
       "      <td>[{u'name': u'Black Professionals', u'urlkey': ...</td>\n",
       "    </tr>\n",
       "    <tr>\n",
       "      <th>2</th>\n",
       "      <td>Miami</td>\n",
       "      <td>203909843</td>\n",
       "      <td>http://www.meetup.com/members/203909843</td>\n",
       "      <td>Aaron Wallace</td>\n",
       "      <td>[{u'name': u'Pets', u'urlkey': u'pets-animals'...</td>\n",
       "    </tr>\n",
       "    <tr>\n",
       "      <th>3</th>\n",
       "      <td>Minneapolis</td>\n",
       "      <td>145409602</td>\n",
       "      <td>http://www.meetup.com/members/145409602</td>\n",
       "      <td>abby</td>\n",
       "      <td>[{u'name': u'Pug', u'urlkey': u'pug', u'id': 5...</td>\n",
       "    </tr>\n",
       "    <tr>\n",
       "      <th>4</th>\n",
       "      <td>Miami</td>\n",
       "      <td>201741842</td>\n",
       "      <td>http://www.meetup.com/members/201741842</td>\n",
       "      <td>abi</td>\n",
       "      <td>[{u'name': u'Artists', u'urlkey': u'boston-art...</td>\n",
       "    </tr>\n",
       "    <tr>\n",
       "      <th>5</th>\n",
       "      <td>Miami</td>\n",
       "      <td>8484098</td>\n",
       "      <td>http://www.meetup.com/members/8484098</td>\n",
       "      <td>ADOLFO ROBIOU</td>\n",
       "      <td>[]</td>\n",
       "    </tr>\n",
       "    <tr>\n",
       "      <th>6</th>\n",
       "      <td>Miami Beach</td>\n",
       "      <td>5694840</td>\n",
       "      <td>http://www.meetup.com/members/5694840</td>\n",
       "      <td>Aimee</td>\n",
       "      <td>[]</td>\n",
       "    </tr>\n",
       "    <tr>\n",
       "      <th>7</th>\n",
       "      <td>New York</td>\n",
       "      <td>193427043</td>\n",
       "      <td>http://www.meetup.com/members/193427043</td>\n",
       "      <td>Alan Etienne</td>\n",
       "      <td>[{u'name': u'NFL Football', u'urlkey': u'nflfo...</td>\n",
       "    </tr>\n",
       "    <tr>\n",
       "      <th>8</th>\n",
       "      <td>Miami Beach</td>\n",
       "      <td>32100452</td>\n",
       "      <td>http://www.meetup.com/members/32100452</td>\n",
       "      <td>Alan Rubio</td>\n",
       "      <td>[]</td>\n",
       "    </tr>\n",
       "    <tr>\n",
       "      <th>9</th>\n",
       "      <td>Miami Beach</td>\n",
       "      <td>10645541</td>\n",
       "      <td>http://www.meetup.com/members/10645541</td>\n",
       "      <td>Alana and Max</td>\n",
       "      <td>[]</td>\n",
       "    </tr>\n",
       "  </tbody>\n",
       "</table>\n",
       "</div>"
      ],
      "text/plain": [
       "          city         id                                     link  \\\n",
       "0        Miami    1837039    http://www.meetup.com/members/1837039   \n",
       "1        Miami   50171992   http://www.meetup.com/members/50171992   \n",
       "2        Miami  203909843  http://www.meetup.com/members/203909843   \n",
       "3  Minneapolis  145409602  http://www.meetup.com/members/145409602   \n",
       "4        Miami  201741842  http://www.meetup.com/members/201741842   \n",
       "5        Miami    8484098    http://www.meetup.com/members/8484098   \n",
       "6  Miami Beach    5694840    http://www.meetup.com/members/5694840   \n",
       "7     New York  193427043  http://www.meetup.com/members/193427043   \n",
       "8  Miami Beach   32100452   http://www.meetup.com/members/32100452   \n",
       "9  Miami Beach   10645541   http://www.meetup.com/members/10645541   \n",
       "\n",
       "               name                                             topics  \n",
       "0        ...Adeela!                                                 []  \n",
       "1  \"Jay\" - Jennifer  [{u'name': u'Black Professionals', u'urlkey': ...  \n",
       "2     Aaron Wallace  [{u'name': u'Pets', u'urlkey': u'pets-animals'...  \n",
       "3              abby  [{u'name': u'Pug', u'urlkey': u'pug', u'id': 5...  \n",
       "4               abi  [{u'name': u'Artists', u'urlkey': u'boston-art...  \n",
       "5     ADOLFO ROBIOU                                                 []  \n",
       "6            Aimee                                                  []  \n",
       "7      Alan Etienne  [{u'name': u'NFL Football', u'urlkey': u'nflfo...  \n",
       "8        Alan Rubio                                                 []  \n",
       "9     Alana and Max                                                 []  "
      ]
     },
     "execution_count": 1,
     "metadata": {},
     "output_type": "execute_result"
    }
   ],
   "source": [
    "# Import libraries necessary for this project\n",
    "import numpy as np\n",
    "import pandas as pd\n",
    "from collections import Counter\n",
    "import cPickle as pickle\n",
    "import pprint\n",
    "%matplotlib inline\n",
    "import logging\n",
    "from time import time\n",
    "\n",
    "logging.basicConfig(format='%(asctime)s : %(levelname)s : %(message)s', level=logging.INFO)\n",
    "pp = pprint.PrettyPrinter(indent=2)\n",
    "\n",
    "members_data = pickle.load(open( \"Miami_meetup_members_save.p\", \"rb\" ) )     \n",
    "df = pd.DataFrame(members_data)\n",
    "df.head(n=10)"
   ]
  },
  {
   "cell_type": "markdown",
   "metadata": {},
   "source": [
    "## Exploratory visualization"
   ]
  },
  {
   "cell_type": "markdown",
   "metadata": {},
   "source": [
    "From the first 10 entries we notice some discrepancies. Even though in our request to Meetup's API we queried only groups in a 15 mile radius around Miami, we notice that some users, members of these groups, have a different city indicated in their profile. However this doesn't interfere with our problem solution.\n",
    "More importantly, some users don't have any interest indicated on their profile. Therefore they cannot be used for this project.\n",
    "We proceed to remove these entries."
   ]
  },
  {
   "cell_type": "code",
   "execution_count": 2,
   "metadata": {
    "collapsed": false
   },
   "outputs": [
    {
     "data": {
      "text/html": [
       "<div>\n",
       "<table border=\"1\" class=\"dataframe\">\n",
       "  <thead>\n",
       "    <tr style=\"text-align: right;\">\n",
       "      <th></th>\n",
       "      <th>index</th>\n",
       "      <th>city</th>\n",
       "      <th>id</th>\n",
       "      <th>link</th>\n",
       "      <th>name</th>\n",
       "      <th>topics</th>\n",
       "    </tr>\n",
       "  </thead>\n",
       "  <tbody>\n",
       "    <tr>\n",
       "      <th>0</th>\n",
       "      <td>1</td>\n",
       "      <td>Miami</td>\n",
       "      <td>50171992</td>\n",
       "      <td>http://www.meetup.com/members/50171992</td>\n",
       "      <td>\"Jay\" - Jennifer</td>\n",
       "      <td>[{u'name': u'Black Professionals', u'urlkey': ...</td>\n",
       "    </tr>\n",
       "    <tr>\n",
       "      <th>1</th>\n",
       "      <td>2</td>\n",
       "      <td>Miami</td>\n",
       "      <td>203909843</td>\n",
       "      <td>http://www.meetup.com/members/203909843</td>\n",
       "      <td>Aaron Wallace</td>\n",
       "      <td>[{u'name': u'Pets', u'urlkey': u'pets-animals'...</td>\n",
       "    </tr>\n",
       "    <tr>\n",
       "      <th>2</th>\n",
       "      <td>3</td>\n",
       "      <td>Minneapolis</td>\n",
       "      <td>145409602</td>\n",
       "      <td>http://www.meetup.com/members/145409602</td>\n",
       "      <td>abby</td>\n",
       "      <td>[{u'name': u'Pug', u'urlkey': u'pug', u'id': 5...</td>\n",
       "    </tr>\n",
       "    <tr>\n",
       "      <th>3</th>\n",
       "      <td>4</td>\n",
       "      <td>Miami</td>\n",
       "      <td>201741842</td>\n",
       "      <td>http://www.meetup.com/members/201741842</td>\n",
       "      <td>abi</td>\n",
       "      <td>[{u'name': u'Artists', u'urlkey': u'boston-art...</td>\n",
       "    </tr>\n",
       "    <tr>\n",
       "      <th>4</th>\n",
       "      <td>7</td>\n",
       "      <td>New York</td>\n",
       "      <td>193427043</td>\n",
       "      <td>http://www.meetup.com/members/193427043</td>\n",
       "      <td>Alan Etienne</td>\n",
       "      <td>[{u'name': u'NFL Football', u'urlkey': u'nflfo...</td>\n",
       "    </tr>\n",
       "  </tbody>\n",
       "</table>\n",
       "</div>"
      ],
      "text/plain": [
       "   index         city         id                                     link  \\\n",
       "0      1        Miami   50171992   http://www.meetup.com/members/50171992   \n",
       "1      2        Miami  203909843  http://www.meetup.com/members/203909843   \n",
       "2      3  Minneapolis  145409602  http://www.meetup.com/members/145409602   \n",
       "3      4        Miami  201741842  http://www.meetup.com/members/201741842   \n",
       "4      7     New York  193427043  http://www.meetup.com/members/193427043   \n",
       "\n",
       "               name                                             topics  \n",
       "0  \"Jay\" - Jennifer  [{u'name': u'Black Professionals', u'urlkey': ...  \n",
       "1     Aaron Wallace  [{u'name': u'Pets', u'urlkey': u'pets-animals'...  \n",
       "2              abby  [{u'name': u'Pug', u'urlkey': u'pug', u'id': 5...  \n",
       "3               abi  [{u'name': u'Artists', u'urlkey': u'boston-art...  \n",
       "4      Alan Etienne  [{u'name': u'NFL Football', u'urlkey': u'nflfo...  "
      ]
     },
     "execution_count": 2,
     "metadata": {},
     "output_type": "execute_result"
    }
   ],
   "source": [
    "cl_df = df[df.astype(unicode)['topics'] != '[]']\n",
    "cl_df.reset_index(inplace=True)\n",
    "cl_df.head()"
   ]
  },
  {
   "cell_type": "code",
   "execution_count": 3,
   "metadata": {
    "collapsed": false
   },
   "outputs": [
    {
     "name": "stdout",
     "output_type": "stream",
     "text": [
      "Total count of profiles with at least one interest is: 82186\n"
     ]
    }
   ],
   "source": [
    "print \"Total count of profiles with at least one interest is: %d\" % (cl_df.shape[0])"
   ]
  },
  {
   "cell_type": "markdown",
   "metadata": {},
   "source": [
    "For each entry, the topics column contains a list of dictionaries that give additional information about each topic. This information is useful but preprocessing is needed. We create a new column that is only a list of topics' names and call it \"interests\".\n",
    "At the same time we count the number of times an interest is indicated and then display the 20 most common interests."
   ]
  },
  {
   "cell_type": "code",
   "execution_count": 4,
   "metadata": {
    "collapsed": false
   },
   "outputs": [
    {
     "name": "stderr",
     "output_type": "stream",
     "text": [
      "C:\\Users\\Rapssail\\Anaconda2\\lib\\site-packages\\pandas\\core\\indexing.py:288: SettingWithCopyWarning: \n",
      "A value is trying to be set on a copy of a slice from a DataFrame.\n",
      "Try using .loc[row_indexer,col_indexer] = value instead\n",
      "\n",
      "See the caveats in the documentation: http://pandas.pydata.org/pandas-docs/stable/indexing.html#indexing-view-versus-copy\n",
      "  self.obj[key] = _infer_fill_value(value)\n",
      "C:\\Users\\Rapssail\\Anaconda2\\lib\\site-packages\\pandas\\core\\indexing.py:465: SettingWithCopyWarning: \n",
      "A value is trying to be set on a copy of a slice from a DataFrame.\n",
      "Try using .loc[row_indexer,col_indexer] = value instead\n",
      "\n",
      "See the caveats in the documentation: http://pandas.pydata.org/pandas-docs/stable/indexing.html#indexing-view-versus-copy\n",
      "  self.obj[item] = s\n"
     ]
    },
    {
     "data": {
      "text/plain": [
       "<matplotlib.axes._subplots.AxesSubplot at 0x15a09dd8>"
      ]
     },
     "execution_count": 4,
     "metadata": {},
     "output_type": "execute_result"
    },
    {
     "data": {
      "image/png": "[encoded data removed]",
      "text/plain": [
       "<matplotlib.figure.Figure at 0x15a095c0>"
      ]
     },
     "metadata": {},
     "output_type": "display_data"
    }
   ],
   "source": [
    "interests = []\n",
    "c = Counter()\n",
    "for row in cl_df['topics']:\n",
    "    user_interests = []\n",
    "    for interest in row:\n",
    "        user_interests.append(interest['name'])\n",
    "    interests.append(user_interests)\n",
    "    c.update(user_interests)\n",
    "cl_df.loc[:,'interests'] = interests\n",
    "counter = pd.DataFrame()\n",
    "counter['Interest'], counter['Count'] = zip(*c.most_common(20))\n",
    "counter.sort_index(axis=0 ,ascending=False).plot(x='Interest', kind='barh')"
   ]
  },
  {
   "cell_type": "code",
   "execution_count": 5,
   "metadata": {
    "collapsed": false
   },
   "outputs": [
    {
     "name": "stdout",
     "output_type": "stream",
     "text": [
      "There are 21892 unique interests\n"
     ]
    }
   ],
   "source": [
    "print \"There are %s unique interests\" % len(c)"
   ]
  },
  {
   "cell_type": "markdown",
   "metadata": {},
   "source": [
    "It would be useful to obtain an histogram showing the number of interests each person has indicated. We create an additional column with this number."
   ]
  },
  {
   "cell_type": "code",
   "execution_count": 6,
   "metadata": {
    "collapsed": false
   },
   "outputs": [
    {
     "data": {
      "text/plain": [
       "<matplotlib.text.Text at 0x509f6b00>"
      ]
     },
     "execution_count": 6,
     "metadata": {},
     "output_type": "execute_result"
    },
    {
     "data": {
      "image/png": "[encoded data removed]",
      "text/plain": [
       "<matplotlib.figure.Figure at 0x58ba77f0>"
      ]
     },
     "metadata": {},
     "output_type": "display_data"
    }
   ],
   "source": [
    "interests_count = []\n",
    "for row in cl_df['interests']:\n",
    "    num_of_interests = len(row)\n",
    "    interests_count.append(num_of_interests)\n",
    "cl_df.loc[:,'interests_count'] = interests_count\n",
    "interest_count_plot = cl_df['interests_count'].value_counts().plot(kind='bar', figsize=(10,6))\n",
    "interest_count_plot.set_xlabel(\"Number of interest selected\")"
   ]
  },
  {
   "cell_type": "markdown",
   "metadata": {},
   "source": [
    "## Benchmark"
   ]
  },
  {
   "cell_type": "markdown",
   "metadata": {},
   "source": [
    "We use Gensim as our benchmark solution."
   ]
  },
  {
   "cell_type": "code",
   "execution_count": 11,
   "metadata": {
    "collapsed": false,
    "scrolled": true
   },
   "outputs": [
    {
     "name": "stderr",
     "output_type": "stream",
     "text": [
      "C:\\Users\\Rapssail\\Anaconda2\\lib\\site-packages\\gensim\\utils.py:840: UserWarning: detected Windows; aliasing chunkize to chunkize_serial\n",
      "  warnings.warn(\"detected Windows; aliasing chunkize to chunkize_serial\")\n",
      "C:\\Users\\Rapssail\\Anaconda2\\lib\\site-packages\\gensim\\utils.py:1015: UserWarning: Pattern library is not installed, lemmatization won't be available.\n",
      "  warnings.warn(\"Pattern library is not installed, lemmatization won't be available.\")\n"
     ]
    }
   ],
   "source": [
    "from gensim import corpora, models, similarities\n",
    "\n",
    "#Construct dictionary\n",
    "gensim_dictionary = corpora.Dictionary(cl_df[\"interests\"])\n",
    "\n",
    "class MyCorpus(object):\n",
    "    def __len__(self):\n",
    "        i = 0        \n",
    "        for line in cl_df[\"interests\"]:\n",
    "            i += 1\n",
    "        return i\n",
    "        \n",
    "    def __iter__(self):\n",
    "        for line in cl_df[\"interests\"]:\n",
    "            yield gensim_dictionary.doc2bow(line)\n",
    "\n",
    "\n",
    "#print(dictionary)\n",
    "#gensim_corpus = [dictionary.doc2bow(text) for text in cl_df[\"interests\"]]\n",
    "gensim_corpus = MyCorpus()\n",
    "\n",
    "corpora.MmCorpus.serialize('gensim_corpus.mm', gensim_corpus)\n",
    "gcorpus = corpora.MmCorpus('gensim_corpus.mm')\n"
   ]
  },
  {
   "cell_type": "code",
   "execution_count": 15,
   "metadata": {
    "collapsed": false
   },
   "outputs": [
    {
     "name": "stdout",
     "output_type": "stream",
     "text": [
      "[ (678, 0.99999964237213135),\n",
      "  (9499, 0.54554486274719238),\n",
      "  (6280, 0.53665632009506226),\n",
      "  (74350, 0.53665632009506226),\n",
      "  (11039, 0.52704644203186035)]\n"
     ]
    }
   ],
   "source": [
    "def gensim_similarity(query, match_num = 5):\n",
    "    vec = gensim_dictionary.doc2bow(cl_df[\"interests\"][query])\n",
    "    index = similarities.Similarity('C:\\ML\\Captsone project\\Capstone', gcorpus, num_features=21892, num_best = match_num)\n",
    "    sims = index[vec]\n",
    "    return sims\n",
    "\n",
    "pp.pprint(gensim_similarity(678))"
   ]
  },
  {
   "cell_type": "markdown",
   "metadata": {
    "collapsed": true
   },
   "source": [
    "# METHODOLOGY\n",
    "------\n",
    "## Data preprocessing"
   ]
  },
  {
   "cell_type": "markdown",
   "metadata": {},
   "source": [
    "We now proceed to extract all the features and vectorize our corpus using TfidfVectorizer which includes a TfidfTransformer. We create a matrix where each row represents a document/user and each column a token/interest."
   ]
  },
  {
   "cell_type": "code",
   "execution_count": 7,
   "metadata": {
    "collapsed": false
   },
   "outputs": [
    {
     "name": "stdout",
     "output_type": "stream",
     "text": [
      "n_samples: 82186, n_features: 21892\n"
     ]
    }
   ],
   "source": [
    "from sklearn.feature_extraction.text import TfidfVectorizer\n",
    "\n",
    "def my_tokenizer(mylist):\n",
    "    return mylist\n",
    "\n",
    "tfidf_vectorizer = TfidfVectorizer(tokenizer = my_tokenizer, lowercase = False)\n",
    "X = tfidf_vectorizer.fit_transform(x for x in cl_df[\"interests\"])\n",
    "print(\"n_samples: %d, n_features: %d\" % X.shape)"
   ]
  },
  {
   "cell_type": "markdown",
   "metadata": {},
   "source": [
    "## Implementation"
   ]
  },
  {
   "cell_type": "code",
   "execution_count": 46,
   "metadata": {
    "collapsed": false
   },
   "outputs": [
    {
     "name": "stdout",
     "output_type": "stream",
     "text": [
      "[ (56090, 1.0),\n",
      "  (55995, 1.0),\n",
      "  (55774, 0.95236044136229014),\n",
      "  (17375, 0.95236044136229014),\n",
      "  (55823, 0.86417102531441214),\n",
      "  (56001, 0.83555621569324401),\n",
      "  (17524, 0.81316339861122278),\n",
      "  (1602, 0.80958605223329849),\n",
      "  (48407, 0.78371376889767008),\n",
      "  (55833, 0.75329761507993198)]\n"
     ]
    }
   ],
   "source": [
    "from sklearn.metrics.pairwise import cosine_similarity\n",
    "def compute_similarity(X, index, match_num = 5):\n",
    "    sims = cosine_similarity(X[index,:],X)\n",
    "    sim_list = np.argsort(sims)\n",
    "    #Reverse and select only the number of matching users indicated by match_num\n",
    "    sim_list = sim_list[0][::-1][0:match_num+1]\n",
    "    match_list = []\n",
    "    for i in sim_list:\n",
    "        #remove the queried user from the match list\n",
    "        if i != index:\n",
    "            match_list.append((i, sims[:,i][0]))\n",
    "    return match_list\n",
    "\n",
    "pp.pprint(compute_similarity(X, 4325, match_num=10))"
   ]
  },
  {
   "cell_type": "code",
   "execution_count": 128,
   "metadata": {
    "collapsed": false
   },
   "outputs": [
    {
     "name": "stdout",
     "output_type": "stream",
     "text": [
      "Queried user has 3 interests: [u'Fitness', u'Vegetarian', u'Vegan'] \n",
      "\n",
      "Match #1\n",
      "Match score with 56090: 1.0\n",
      "Interests of 56090: [u'Fitness', u'Vegetarian', u'Vegan']\n",
      "Number of shared interests: 3 (100% of all 56090's interests)\n",
      "Shared interests: set([u'Vegetarian', u'Vegan', u'Fitness']) \n",
      "\n",
      "Match #2\n",
      "Match score with 55995: 1.0\n",
      "Interests of 55995: [u'Fitness', u'Vegetarian', u'Vegan']\n",
      "Number of shared interests: 3 (100% of all 55995's interests)\n",
      "Shared interests: set([u'Vegetarian', u'Vegan', u'Fitness']) \n",
      "\n",
      "Match #3\n",
      "Match score with 55774: 0.952360441362\n",
      "Interests of 55774: [u'Vegan', u'Vegetarian']\n",
      "Number of shared interests: 2 (100% of all 55774's interests)\n",
      "Shared interests: set([u'Vegetarian', u'Vegan']) \n",
      "\n",
      "Match #4\n",
      "Match score with 17375: 0.952360441362\n",
      "Interests of 17375: [u'Vegetarian', u'Vegan']\n",
      "Number of shared interests: 2 (100% of all 17375's interests)\n",
      "Shared interests: set([u'Vegetarian', u'Vegan']) \n",
      "\n",
      "Match #5\n",
      "Match score with 55823: 0.864171025314\n",
      "Interests of 55823: [u'Vegetarian', u'Vegan', u'Spirituality']\n",
      "Number of shared interests: 2 (67% of all 55823's interests)\n",
      "Shared interests: set([u'Vegetarian', u'Vegan']) \n",
      "\n",
      "Match #6\n",
      "Match score with 56001: 0.835556215693\n",
      "Interests of 56001: [u'Fitness', u'Vegetarian', u'Vegan', u'Organic Foods']\n",
      "Number of shared interests: 3 (75% of all 56001's interests)\n",
      "Shared interests: set([u'Vegetarian', u'Vegan', u'Fitness']) \n",
      "\n"
     ]
    }
   ],
   "source": [
    "def compare_interests(corpus, user_index, match_list, show_interests = 'True'):\n",
    "    if show_interests == 'True':\n",
    "        print \"Queried user has {0} interests: {1} \\n\".format(len(corpus[user_index]), corpus[user_index])\n",
    "    else:\n",
    "        print \"Queried user has {0} interests\".format(len(corpus[user_index]))\n",
    "    for index, item in enumerate(match_list):\n",
    "        i, j = item\n",
    "        shared_interests = set(corpus.loc[user_index]) & set(corpus.loc[i])\n",
    "        print \"Match #{0}\".format(index+1)\n",
    "        print \"Match score with {0}: {1}\".format(i, j)\n",
    "        if show_interests == 'True':\n",
    "            print \"Interests of {0}: {1}\".format(i, corpus[i])\n",
    "        print \"Number of shared interests: {0} ({1:.00f}% of all {2}'s interests)\".format(len(shared_interests),(1.0 * len(shared_interests)/len(corpus[i]))*100, i)\n",
    "        if show_interests == 'True':\n",
    "            print \"Shared interests: {0} \\n\".format(shared_interests)\n",
    "        \n",
    "        \n",
    "compare_interests(cl_df[\"interests\"], 4325, compute_similarity(X, 4325, match_num=6))"
   ]
  },
  {
   "cell_type": "markdown",
   "metadata": {
    "collapsed": false
   },
   "source": [
    "Logically users with a lower number of interests indicated are more likely to have a higher matching score with other users because it is easier for other users to share all their interests since they indicated so few.\n",
    "\n",
    "Though 2 more interesting points appear from the example above:\n",
    "- The 5th matching user has a score of 0.86, significantly lower than the 3rd and 4th matching users (with a score of 0.95) even though the 5th matching user has all their interests (namely \"Vegeterian\" and \"Vegan\"). This means that the algorithm penalizes having additional non-shared interests in terms of similarity. This might be a far-fetched deduction. What if the queried person simply forgot to indicate that she also likes Spirituality? What's more what if the 4th match forgot to indicate that she likes Hiking, which the queried user hates?\n",
    "\n",
    "- Even more worrisome is the fact that the 6th matching user has all the interests of the queried user but is only in the 6th position after users with only 2 matching interests! This is a poor performance if we take the number of shared interests as a metric to evaluate our algorithm."
   ]
  },
  {
   "cell_type": "markdown",
   "metadata": {},
   "source": [
    "## Refinement"
   ]
  },
  {
   "cell_type": "code",
   "execution_count": 10,
   "metadata": {
    "collapsed": false
   },
   "outputs": [
    {
     "name": "stdout",
     "output_type": "stream",
     "text": [
      "n_samples: 82186, n_features: 21892\n"
     ]
    }
   ],
   "source": [
    "from sklearn.feature_extraction.text import CountVectorizer\n",
    "\n",
    "count_vectorizer = CountVectorizer(tokenizer = my_tokenizer, lowercase = False)\n",
    "X_count = count_vectorizer.fit_transform(x for x in cl_df[\"interests\"])\n",
    "print(\"n_samples: %d, n_features: %d\" % X_count.shape)"
   ]
  },
  {
   "cell_type": "code",
   "execution_count": 11,
   "metadata": {
    "collapsed": false
   },
   "outputs": [
    {
     "name": "stdout",
     "output_type": "stream",
     "text": [
      "Queried user has 3 interests: [u'Fitness', u'Vegetarian', u'Vegan'] \n",
      "\n",
      "Match #1\n",
      "Match score with 55995: 1.0\n",
      "Interests of 55995: [u'Fitness', u'Vegetarian', u'Vegan']\n",
      "Number of shared interests: 3\n",
      "Shared interests: set([u'Vegetarian', u'Vegan', u'Fitness']) \n",
      "\n",
      "Match #2\n",
      "Match score with 56090: 1.0\n",
      "Interests of 56090: [u'Fitness', u'Vegetarian', u'Vegan']\n",
      "Number of shared interests: 3\n",
      "Shared interests: set([u'Vegetarian', u'Vegan', u'Fitness']) \n",
      "\n",
      "Match #3\n",
      "Match score with 56001: 0.866025403784\n",
      "Interests of 56001: [u'Fitness', u'Vegetarian', u'Vegan', u'Organic Foods']\n",
      "Number of shared interests: 3\n",
      "Shared interests: set([u'Vegetarian', u'Vegan', u'Fitness']) \n",
      "\n",
      "Match #4\n",
      "Match score with 17375: 0.816496580928\n",
      "Interests of 17375: [u'Vegetarian', u'Vegan']\n",
      "Number of shared interests: 2\n",
      "Shared interests: set([u'Vegetarian', u'Vegan']) \n",
      "\n",
      "Match #5\n",
      "Match score with 55774: 0.816496580928\n",
      "Interests of 55774: [u'Vegan', u'Vegetarian']\n",
      "Number of shared interests: 2\n",
      "Shared interests: set([u'Vegetarian', u'Vegan']) \n",
      "\n",
      "Match #6\n",
      "Match score with 71420: 0.816496580928\n",
      "Interests of 71420: [u'Fitness', u'Vegan']\n",
      "Number of shared interests: 2\n",
      "Shared interests: set([u'Vegan', u'Fitness']) \n",
      "\n"
     ]
    }
   ],
   "source": [
    "compare_interests(cl_df[\"interests\"], 4325, compute_similarity(X_count, 4325, match_num=6))"
   ]
  },
  {
   "cell_type": "markdown",
   "metadata": {},
   "source": [
    "By randomly exploring suggested similar users, I was puzzled by the fact that some users with more shared interests were still ranked below some others with less shared interests. \n",
    "Adding the percentage of shared interests out of all the interests of a given match made me think that the algorithm values whether the shared interests represent a large fraction of all the user's interest or not. And for example if A and B have an equal number of shared interest with the queried user but those represent respectively 48% of A interests and 53% of B interests. B will rank higher. \n",
    "The following example seems to confirm this hypothesis. Match #9 has more interests in common than the 6 users above her, yet the shared interests with the queried user only represents half of her interests as opposed to 70% for Match #5."
   ]
  },
  {
   "cell_type": "code",
   "execution_count": 131,
   "metadata": {
    "collapsed": false
   },
   "outputs": [
    {
     "name": "stdout",
     "output_type": "stream",
     "text": [
      "Queried user has 50 interests\n",
      "Match #1\n",
      "Match score with 17118: 0.551487018011\n",
      "Number of shared interests: 21 (72% of all 17118's interests)\n",
      "Match #2\n",
      "Match score with 14688: 0.54\n",
      "Number of shared interests: 27 (54% of all 14688's interests)\n",
      "Match #3\n",
      "Match score with 42747: 0.524631389871\n",
      "Number of shared interests: 17 (81% of all 42747's interests)\n",
      "Match #4\n",
      "Match score with 65267: 0.517597311377\n",
      "Number of shared interests: 24 (56% of all 65267's interests)\n",
      "Match #5\n",
      "Match score with 30137: 0.517114501254\n",
      "Number of shared interests: 19 (70% of all 30137's interests)\n",
      "Match #6\n",
      "Match score with 10492: 0.511489610473\n",
      "Number of shared interests: 22 (59% of all 10492's interests)\n",
      "Match #7\n",
      "Match score with 23618: 0.509116882454\n",
      "Number of shared interests: 18 (72% of all 23618's interests)\n",
      "Match #8\n",
      "Match score with 10813: 0.509116882454\n",
      "Number of shared interests: 18 (72% of all 10813's interests)\n",
      "Match #9\n",
      "Match score with 47181: 0.5\n",
      "Number of shared interests: 25 (50% of all 47181's interests)\n"
     ]
    }
   ],
   "source": [
    "random_user = random.randrange(1,82186, 1)\n",
    "compare_interests(cl_df[\"interests\"], 14532, compute_similarity(X_count, 14532, match_num=9), show_interests='False')"
   ]
  },
  {
   "cell_type": "markdown",
   "metadata": {},
   "source": [
    "### Changes in Vectorizer parameters"
   ]
  },
  {
   "cell_type": "code",
   "execution_count": 132,
   "metadata": {
    "collapsed": false
   },
   "outputs": [
    {
     "name": "stdout",
     "output_type": "stream",
     "text": [
      "Number of interests ignored: 281\n",
      "['Video Games', 'Cycling', 'International Travel', 'Fitness', 'Spanish Language', 'Poetry', 'Arts & Entertainment', 'Boating', \"Singles 30's-50's\", 'Parents', 'Beauty Industry', 'Pets', 'Watching Movies', 'Comedy', 'Nutrition', 'Gaming', 'Stress Relief', 'Italian Language', 'Weekend Adventures', 'Painting', 'Photography', 'Philosophy', 'Running', 'Entrepreneurship', 'Sustainability', 'Leadership', 'Self Exploration', 'Authors', 'Holistic Health', 'Makeup', 'HTML5', 'Karaoke', 'Nature Photography', 'Single Parents', 'Photography Classes', 'African American Women', 'Small Breed Dogs', 'Craft Beer', 'Weight Loss', 'Mobile Technology', 'Art Walks and Tours', 'Conversation', 'Off-Leash Dog Recreation', 'Wellness', 'Nightlife', 'Bowling', 'Open Source', 'Writing', 'Reiki', 'Web Technology', 'Wine', 'Exercise', 'Art', 'Hiking', 'Animal Welfare', 'Fun and Laughter', 'Cultural Activities', 'Locals & New in Town', 'Learning', 'Creative Writing', 'Education', 'Women Entrepreneurs', 'Dog Playgroups', 'Small Business Marketing Strategy', 'Collaboration between Creative Minds', 'Food and Drink', 'Dinner and a Movie', 'Museum', 'Book Club', 'Organic Foods', 'Crafts', 'Dance Lessons', 'Beer', 'Latin Music', 'Communication Skills', 'Real Estate Investors', \"Women's Fitness\", 'Travel', 'Reading', \"Women's Book Club\", 'Transformation', 'Weekend Getaways', 'Social Media', 'Coffee', 'Singles', 'Outdoor Adventures', 'Model Photography', 'Language & Culture', 'Fun Times', 'Christian Ministry', 'Raw Food', 'Ballroom Dancing', \"Women's Social\", 'Salsa', 'Drinking', 'Stay-at-Home Moms', 'Mobile Development', 'Dining Out', 'wine-and-food-pairing', 'Theater', 'Social Dancing', 'Journalism', 'Education & Technology', 'Street Photography', 'Film and Video Production', 'LGBT', 'New In Town', 'Musicians', 'Anime', 'Outdoors', 'Nonprofit', 'Art Galleries', 'Concerts', 'Software Development', 'Motivation', 'Sports and Recreation', 'Foodie', 'Jazz', 'Consciousness', 'Fashion and Style', 'Business Strategy', 'Self-Defense', 'English Language', 'Metaphysics', 'Professional Development', 'Whole Food Nutrition', 'Film Industry', \"Women's Support\", 'Real Estate', 'Geeks & Nerds', 'Self-Empowerment', 'Motorcycle Riding', 'Technology', 'Board Games', 'Pubs and Bars', 'Architecture', 'Energy Healing', 'Performing Arts', 'Samba', 'Yoga', 'Psychology', 'Readers', 'French Language', 'Social', 'Nature Walks', 'Open Mic', 'Fiction', 'Environment', 'Acting', 'Working Moms', 'Music', 'Girlfriends', \"Women's Business Networking\", 'LGBT Social Group', 'Spiritual Growth', \"Girls' Night Out\", 'Professional Women', 'Literature', 'Public Speaking', 'English as a Second Language', 'Screenwriting', 'Wine and Food Pairing', 'Internet Startups', 'Dancing', 'Vegan', 'Professional Networking', \"20's & 30's Social\", 'Investing', 'Indie Films', 'Latino Culture', 'Young Professionals', 'Modeling', 'Beach', 'professional-networking', 'Free thinker', 'Web Development', 'Electronic Music', 'DIY (Do It Yourself)', 'Group Photo Shoots', 'Tennis', 'Animals', 'Volunteering', 'Community Service', 'Vegetarian', 'Drum Circle', 'Outdoor  Fitness', 'Walking', 'Fashion Industry', 'Eating, Drinking, Talking, Laughing, Etc', 'Graphic Design', 'Happy Hour', 'Computer programming', 'Alternative Medicine', 'Improv', 'JavaScript', 'Culture Exchange', 'BBQ', 'Digital Photography', 'Technology Startups', 'Gardening', 'Photojournalism', 'Family', 'Stand Up Paddle Boarding', 'Dog Rescue', 'Playdates', 'Handmade Crafts', 'Charity Events', 'Cocktails', 'Culture', 'Single Professionals', 'Small Business', 'Healthy Eating', 'Meditation', 'Reggae', 'Courses and Workshops', 'Sci-Fi/Fantasy', 'Dance and Movement', 'Live Music', 'Camping', 'Bicycling', 'Intellectual Discussion', 'Water Sports', 'Cooking', 'Creativity', \"Women's Empowerment\", 'Small Business Owners', 'Group Fitness Training', 'Spirituality', 'Creative Circle', 'Dating and Relationships', 'Self-Improvement', 'Recreational Sports', 'Soccer', 'Healthy Living', 'Lean Startup', 'Game Night', 'Active Dogs', 'dancing', 'Moms', 'Studio Photography', 'Positive Thinking', 'Young Professional Singles', 'Dogs', 'Movie Nights', 'Latin Dance', 'Adventure', 'Black Professionals', 'Brunch', 'Jewelry Making', 'Natural Hair', 'Entrepreneur Networking', 'Spiritualism', 'Social Networking', 'Law of Attraction', 'New Technology', 'Web Design', 'Portrait Photography', 'Paddling', 'Recipes', 'Kayaking', 'Black Women', 'Card Games', 'SEO (Search Engine Optimization)', 'Games', 'Volleyball', 'Couples', 'Local Activities', 'Photoshop', 'Scuba Diving', 'Life Transformation', 'Startup Businesses', 'Animal Rights', 'Dog Walks', 'Online Marketing', 'Social Media Marketing', 'Independent Filmmaking', 'Fashion Photography', 'Artists', 'Flamenco', 'Singing', 'Film']\n",
      "\n",
      "Queried user has 44 interests: [u'Art Museums', u'Creativity', u'DIY (Do It Yourself)', u'Art Walks and Tours', u'Drones', u'Dining Out', u'Locals & New in Town', u'Leadership', u'Sports and Recreation', u'Language & Culture', u'Concealed Carry Weapons Permit', u'Vegan', u'Creative Writing', u'College Students', u'Dogs', u'Education', u'Poetry', u'Animals', u'Photography', u'Foodie', u'New Technology', u'Professional Women', u'Plant-Based Nutrition', u'Business Strategy', u'Wine', u'Education & Technology', u'Python', u'Journalism', u'Intellectual Discussion', u'Active Dogs', u'Dog Rescue', u'Startup Businesses', u'Community Service', u'Fitness', u'E-Commerce', u'Technology Startups', u'Critical Thinking', u'Cycling', u'Software Development', u'Eating, Drinking, Talking, Laughing, Etc', u'Communication Skills', u'Young Professionals', u'Fashion and Style', u'DevOps'] \n",
      "\n",
      "Match #1\n",
      "Match score with 35873: 0.471404520791\n",
      "Interests of 35873: [u'Critical Thinking', u'E-Commerce']\n",
      "Number of shared interests: 2 (100% of all 35873's interests)\n",
      "Shared interests: set([u'Critical Thinking', u'E-Commerce']) \n",
      "\n",
      "Match #2\n",
      "Match score with 72812: 0.471404520791\n",
      "Interests of 72812: [u'DevOps', u'Web Technology', u'Software Development', u'Communication Skills', u'Young Professionals', u'College Students', u'Healthy Living', u'Investing', u'Self-Improvement', u'Education & Technology', u'Online Marketing', u'Business Strategy', u'New Technology']\n",
      "Number of shared interests: 8 (62% of all 72812's interests)\n",
      "Shared interests: set([u'Software Development', u'Business Strategy', u'College Students', u'Education & Technology', u'DevOps', u'Communication Skills', u'New Technology', u'Young Professionals']) \n",
      "\n",
      "Match #3\n",
      "Match score with 57473: 0.471404520791\n",
      "Interests of 57473: [u'New Technology', u'Online Marketing', u'Web Technology', u'Business Strategy', u'Education & Technology', u'Startup Businesses', u'Technology Startups', u'Open Source', u'Real Estate', u'Courses and Workshops', u'Critical Thinking', u'Software Development', u'College Students']\n",
      "Number of shared interests: 8 (62% of all 57473's interests)\n",
      "Shared interests: set([u'Software Development', u'Business Strategy', u'Critical Thinking', u'College Students', u'Education & Technology', u'Startup Businesses', u'New Technology', u'Technology Startups']) \n",
      "\n",
      "Match #4\n",
      "Match score with 27565: 0.471404520791\n",
      "Interests of 27565: [u'Web Design', u'JavaScript', u'SEO (Search Engine Optimization)', u'E-Commerce', u'Web Technology', u'Startup Businesses', u'Business Strategy', u'Young Professionals', u'Education & Technology', u'Happy Hour', u'Young Professional Singles', u'Fun Times', u'Lean Startup', u'Technology Startups', u'Software Development', u'DevOps', u'New Technology']\n",
      "Number of shared interests: 9 (53% of all 27565's interests)\n",
      "Shared interests: set([u'Software Development', u'E-Commerce', u'Business Strategy', u'Education & Technology', u'DevOps', u'Startup Businesses', u'New Technology', u'Young Professionals', u'Technology Startups']) \n",
      "\n",
      "Match #5\n",
      "Match score with 48016: 0.471404520791\n",
      "Interests of 48016: [u'Fitness', u'Dining Out', u'Self-Improvement', u'Boating', u'Wellness', u'Beach', u'Music', u'Outdoors', u'Fun Times', u'International Travel', u'Outdoor Adventures', u\"20's & 30's Social\", u'Gaming', u'Eating, Drinking, Talking, Laughing, Etc', u'Healthy Eating', u'Healthy Living', u'Dating and Relationships', u'Dinner and a Movie', u'E-Commerce', u'College Students', u'Young Professional Singles']\n",
      "Number of shared interests: 5 (24% of all 48016's interests)\n",
      "Shared interests: set([u'Dining Out', u'Eating, Drinking, Talking, Laughing, Etc', u'Fitness', u'College Students', u'E-Commerce']) \n",
      "\n",
      "Match #6\n",
      "Match score with 73868: 0.4472135955\n",
      "Interests of 73868: [u'Software Development', u'DevOps', u'Web Technology', u'Database Development', u'Computer programming', u'SEO (Search Engine Optimization)', u'Technology Startups', u'Test Driven Development', u'Art Galleries', u'Art Museums', u'Art', u'Open Mic', u'Cultural Activities', u'Architecture', u'Creativity', u'Artists', u'Art Walks and Tours', u'Drones']\n",
      "Number of shared interests: 7 (39% of all 73868's interests)\n",
      "Shared interests: set([u'Software Development', u'Art Museums', u'Creativity', u'DevOps', u'Art Walks and Tours', u'Drones', u'Technology Startups']) \n",
      "\n"
     ]
    }
   ],
   "source": [
    "import random\n",
    "\n",
    "lcount_vectorizer = CountVectorizer(tokenizer = my_tokenizer, lowercase = False, max_df =1000)\n",
    "X_lcount = lcount_vectorizer.fit_transform(x for x in cl_df[\"interests\"])\n",
    "\n",
    "print \"Number of interests ignored: %d\" % len(lcount_vectorizer.stop_words_)\n",
    "print [k.encode('utf-8') for k in lcount_vectorizer.stop_words_]\n",
    "print \"\"\n",
    "\n",
    "compare_interests(cl_df[\"interests\"], 2306, compute_similarity(X_lcount, 2306, match_num=6))"
   ]
  },
  {
   "cell_type": "markdown",
   "metadata": {},
   "source": [
    "As provided by sklearn's documentation the max_df parameter allows to set a threshold so that when the vocabulary is built, the vectorizer will ignore terms that have a document frequency strictly higher than the given threshold.\n",
    "In our case setting a low number relative to our dataset (1000) as threshold has the effect of discarding the 281 most common interests. Thus, our algorithm now seems to return people matching users based on their most peculiar and uncommon interests... which is something potentially interesting. However this raises the question: are there interests so commonly shared that they can be ignored?"
   ]
  },
  {
   "cell_type": "markdown",
   "metadata": {},
   "source": [
    "### Using a different distance metric"
   ]
  },
  {
   "cell_type": "code",
   "execution_count": 85,
   "metadata": {
    "collapsed": false
   },
   "outputs": [
    {
     "name": "stdout",
     "output_type": "stream",
     "text": [
      "[[ 4327 41839 45050 ..., 21480 20088 41092]]\n"
     ]
    },
    {
     "data": {
      "text/html": [
       "<div>\n",
       "<table border=\"1\" class=\"dataframe\">\n",
       "  <thead>\n",
       "    <tr style=\"text-align: right;\">\n",
       "      <th></th>\n",
       "      <th>euclidean match</th>\n",
       "      <th>euclidean similarity</th>\n",
       "      <th>cosine match</th>\n",
       "      <th>cosine similarity</th>\n",
       "    </tr>\n",
       "  </thead>\n",
       "  <tbody>\n",
       "    <tr>\n",
       "      <th>0</th>\n",
       "      <td>41839</td>\n",
       "      <td>4.242641</td>\n",
       "      <td>41839</td>\n",
       "      <td>0.580259</td>\n",
       "    </tr>\n",
       "    <tr>\n",
       "      <th>1</th>\n",
       "      <td>45050</td>\n",
       "      <td>4.358899</td>\n",
       "      <td>65608</td>\n",
       "      <td>0.544331</td>\n",
       "    </tr>\n",
       "    <tr>\n",
       "      <th>2</th>\n",
       "      <td>70043</td>\n",
       "      <td>4.358899</td>\n",
       "      <td>45050</td>\n",
       "      <td>0.544331</td>\n",
       "    </tr>\n",
       "    <tr>\n",
       "      <th>3</th>\n",
       "      <td>65608</td>\n",
       "      <td>4.358899</td>\n",
       "      <td>70043</td>\n",
       "      <td>0.544331</td>\n",
       "    </tr>\n",
       "    <tr>\n",
       "      <th>4</th>\n",
       "      <td>70824</td>\n",
       "      <td>4.472136</td>\n",
       "      <td>28156</td>\n",
       "      <td>0.533761</td>\n",
       "    </tr>\n",
       "    <tr>\n",
       "      <th>5</th>\n",
       "      <td>58356</td>\n",
       "      <td>4.472136</td>\n",
       "      <td>27521</td>\n",
       "      <td>0.529813</td>\n",
       "    </tr>\n",
       "    <tr>\n",
       "      <th>6</th>\n",
       "      <td>28156</td>\n",
       "      <td>4.472136</td>\n",
       "      <td>27054</td>\n",
       "      <td>0.522233</td>\n",
       "    </tr>\n",
       "  </tbody>\n",
       "</table>\n",
       "</div>"
      ],
      "text/plain": [
       "   euclidean match  euclidean similarity  cosine match  cosine similarity\n",
       "0            41839              4.242641         41839           0.580259\n",
       "1            45050              4.358899         65608           0.544331\n",
       "2            70043              4.358899         45050           0.544331\n",
       "3            65608              4.358899         70043           0.544331\n",
       "4            70824              4.472136         28156           0.533761\n",
       "5            58356              4.472136         27521           0.529813\n",
       "6            28156              4.472136         27054           0.522233"
      ]
     },
     "execution_count": 85,
     "metadata": {},
     "output_type": "execute_result"
    }
   ],
   "source": [
    "from sklearn.metrics.pairwise import euclidean_distances\n",
    "from sklearn.metrics.pairwise import manhattan_distances\n",
    "\n",
    "def compute_euclidean_similarity(X, index, match_num = 5):\n",
    "    sims = euclidean_distances(X[index,:],X)\n",
    "    sim_list = np.argsort(sims)\n",
    "    print sim_list\n",
    "    #Reverse and select only the number of matching users indicated by match_num\n",
    "    sim_list = sim_list[0][0:match_num+1]\n",
    "    match_list = []\n",
    "    for i in sim_list:\n",
    "        #remove the queried user from the match list\n",
    "        if i != index:\n",
    "            match_list.append((i, sims[:,i][0]))\n",
    "    return match_list\n",
    "\n",
    "euclidean_results = pd.DataFrame(compute_euclidean_similarity(X_count, 4327, match_num=10),\n",
    "                                 columns=['euclidean match', 'euclidean similarity'])\n",
    "cosine_results = pd.DataFrame(compute_similarity(X_count, 4327, match_num=10),\n",
    "                             columns=['cosine match', 'cosine similarity'])\n",
    "\n",
    "\n",
    "distance_comparison = pd.concat([euclidean_results, cosine_results], axis=1)\n",
    "distance_comparison.head(n=7)"
   ]
  },
  {
   "cell_type": "markdown",
   "metadata": {},
   "source": [
    "The 4th first are exactly the same.After the first entry (#41839) they are presented in different orders but the next 3 are technical as similar because they have the same score, after that results start to diverge."
   ]
  },
  {
   "cell_type": "code",
   "execution_count": 134,
   "metadata": {
    "collapsed": false
   },
   "outputs": [
    {
     "name": "stdout",
     "output_type": "stream",
     "text": [
      "[[ 4327 41839 45050 ..., 21480 20088 41092]]\n",
      "Queried user has 27 interests\n",
      "Match #1\n",
      "Match score with 41839: 4.24264068712\n",
      "Number of shared interests: 10 (91% of all 41839's interests)\n",
      "Match #2\n",
      "Match score with 45050: 4.35889894354\n",
      "Number of shared interests: 8 (100% of all 45050's interests)\n",
      "Match #3\n",
      "Match score with 70043: 4.35889894354\n",
      "Number of shared interests: 8 (100% of all 70043's interests)\n",
      "Match #4\n",
      "Match score with 65608: 4.35889894354\n",
      "Number of shared interests: 8 (100% of all 65608's interests)\n",
      "Match #5\n",
      "Match score with 70824: 4.472135955\n",
      "Number of shared interests: 7 (100% of all 70824's interests)\n",
      "Match #6\n",
      "Match score with 58356: 4.472135955\n",
      "Number of shared interests: 7 (100% of all 58356's interests)\n",
      "Match #7\n",
      "Match score with 28156: 4.472135955\n",
      "Number of shared interests: 10 (77% of all 28156's interests)\n",
      "Match #8\n",
      "Match score with 27054: 4.472135955\n",
      "Number of shared interests: 9 (82% of all 27054's interests)\n",
      "Match #9\n",
      "Match score with 35886: 4.472135955\n",
      "Number of shared interests: 8 (89% of all 35886's interests)\n",
      "Match #10\n",
      "Match score with 36615: 4.58257569496\n",
      "Number of shared interests: 8 (80% of all 36615's interests)\n",
      "--------------\n",
      "Queried user has 27 interests\n",
      "Match #1\n",
      "Match score with 41839: 0.580258853186\n",
      "Number of shared interests: 10 (91% of all 41839's interests)\n",
      "Match #2\n",
      "Match score with 65608: 0.544331053952\n",
      "Number of shared interests: 8 (100% of all 65608's interests)\n",
      "Match #3\n",
      "Match score with 45050: 0.544331053952\n",
      "Number of shared interests: 8 (100% of all 45050's interests)\n",
      "Match #4\n",
      "Match score with 70043: 0.544331053952\n",
      "Number of shared interests: 8 (100% of all 70043's interests)\n",
      "Match #5\n",
      "Match score with 28156: 0.533760512684\n",
      "Number of shared interests: 10 (77% of all 28156's interests)\n",
      "Match #6\n",
      "Match score with 27521: 0.529812942826\n",
      "Number of shared interests: 12 (63% of all 27521's interests)\n",
      "Match #7\n",
      "Match score with 27054: 0.522232967867\n",
      "Number of shared interests: 9 (82% of all 27054's interests)\n",
      "Match #8\n",
      "Match score with 26832: 0.521672030038\n",
      "Number of shared interests: 13 (57% of all 26832's interests)\n",
      "Match #9\n",
      "Match score with 59767: 0.516397779494\n",
      "Number of shared interests: 12 (60% of all 59767's interests)\n",
      "Match #10\n",
      "Match score with 59756: 0.516397779494\n",
      "Number of shared interests: 12 (60% of all 59756's interests)\n"
     ]
    }
   ],
   "source": [
    "compare_interests(cl_df[\"interests\"], 4327, compute_euclidean_similarity(X_count, 4327, match_num=10), show_interests = 'False')\n",
    "print \"--------------\"\n",
    "compare_interests(cl_df[\"interests\"], 4327, compute_similarity(X_count, 4327, match_num=10), show_interests = 'False')"
   ]
  },
  {
   "cell_type": "markdown",
   "metadata": {},
   "source": [
    "Comparing match #8, #9 and #10 shows that using Euclidean distance favors matching users with less matching interests but representing a higher percentage of their total interests which goes against the desired outcome."
   ]
  },
  {
   "cell_type": "markdown",
   "metadata": {},
   "source": [
    "### Dimensionality reduction"
   ]
  },
  {
   "cell_type": "markdown",
   "metadata": {},
   "source": [
    "Greatly taken from http://scikit-learn.org/stable/auto_examples/text/document_clustering.html"
   ]
  },
  {
   "cell_type": "code",
   "execution_count": 137,
   "metadata": {
    "collapsed": false
   },
   "outputs": [
    {
     "name": "stdout",
     "output_type": "stream",
     "text": [
      "Performing dimensionality reduction using LSA\n",
      "done in 4.330000s\n",
      "Explained variance of the SVD with 100 components: 55%\n",
      "done in 15.343000s\n",
      "Explained variance of the SVD with 300 components: 77%\n",
      "done in 30.193000s\n",
      "Explained variance of the SVD with 500 components: 85%\n",
      "done in 38.990000s\n",
      "Explained variance of the SVD with 700 components: 88%\n",
      "done in 56.040000s\n",
      "Explained variance of the SVD with 900 components: 89%\n",
      "done in 78.393000s\n",
      "Explained variance of the SVD with 1100 components: 89%\n",
      "[(100, 0.55976727209387889), (300, 0.77242827398788472), (500, 0.85063106198726324), (700, 0.88241113246968894), (900, 0.89090710264150996), (1100, 0.8957017939494093)]\n"
     ]
    }
   ],
   "source": [
    "from sklearn.feature_extraction.text import HashingVectorizer\n",
    "from sklearn.decomposition import TruncatedSVD\n",
    "from sklearn.preprocessing import Normalizer\n",
    "from sklearn.pipeline import make_pipeline\n",
    "from sklearn import metrics\n",
    "\n",
    "#hashing_vectorizer = HashingVectorizer(n_features=21892,\n",
    "#                                       tokenizer=my_tokenizer,\n",
    "#                                       lowercase = False\n",
    "#                                       )\n",
    "\n",
    "#X_hash = hashing_vectorizer.fit_transform(x for x in cl_df[\"interests\"])\n",
    "#print(\"n_samples: %d, n_features: %d\" % X_hash.shape)\n",
    "\n",
    "variances = []\n",
    "n_components_range = [100, 300, 500, 700, 900, 1100]\n",
    "\n",
    "print(\"Performing dimensionality reduction using LSA\")\n",
    "for n_components in n_components_range: \n",
    "    t0 = time()\n",
    "    # Vectorizer results are normalized, which makes KMeans behave as\n",
    "    # spherical k-means for better results. Since LSA/SVD results are\n",
    "    # not normalized, we have to redo the normalization.\n",
    "    svd = TruncatedSVD(n_components)\n",
    "    normalizer = Normalizer(copy=False)\n",
    "    lsa = make_pipeline(svd, normalizer)\n",
    "    \n",
    "    X_lsa = lsa.fit_transform(X_count)\n",
    "    \n",
    "    print(\"done in %fs\" % (time() - t0))\n",
    "\n",
    "    explained_variance = svd.explained_variance_ratio_.sum()\n",
    "    print(\"Explained variance of the SVD with {0} components: {1}%\".format(\n",
    "        n_components, int(explained_variance * 100)))\n",
    "    \n",
    "    lsa_result = (n_components, explained_variance)\n",
    "    variances.append(lsa_result)\n",
    "    \n",
    "print variances"
   ]
  },
  {
   "cell_type": "markdown",
   "metadata": {},
   "source": [
    "We can now use the \"Elbow Method\" to determine which number of components we should choose. The chart below seems to show that 500 is the optimal number of components as the marginal explained variance decreases significantly when the number of components exceeds 500."
   ]
  },
  {
   "cell_type": "code",
   "execution_count": 138,
   "metadata": {
    "collapsed": false
   },
   "outputs": [
    {
     "data": {
      "image/png": "[encoded data removed]",
      "text/plain": [
       "<matplotlib.figure.Figure at 0x1626e1d0>"
      ]
     },
     "metadata": {},
     "output_type": "display_data"
    }
   ],
   "source": [
    "import matplotlib.pyplot as plt\n",
    "plt.scatter(*zip(*variances))\n",
    "plt.plot(*zip(*variances))\n",
    "plt.xlabel(\"Number of components\")\n",
    "plt.ylabel(\"Explained variance\")\n",
    "plt.show()"
   ]
  },
  {
   "cell_type": "code",
   "execution_count": 139,
   "metadata": {
    "collapsed": false
   },
   "outputs": [
    {
     "name": "stdout",
     "output_type": "stream",
     "text": [
      "Performing dimensionality reduction using LSA\n",
      "Done. Matrix shape: (82186L, 500L)\n"
     ]
    }
   ],
   "source": [
    "print(\"Performing dimensionality reduction using LSA\")\n",
    "svd = TruncatedSVD(500)\n",
    "normalizer = Normalizer(copy=False)\n",
    "lsa = make_pipeline(svd, normalizer)\n",
    "\n",
    "X_lsa = lsa.fit_transform(X_count)\n",
    "\n",
    "print(\"Done. Matrix shape: {}\".format(X_lsa.shape))"
   ]
  },
  {
   "cell_type": "markdown",
   "metadata": {},
   "source": [
    "A good [rule of thumb](https://www.wikiwand.com/en/Determining_the_number_of_clusters_in_a_data_set#Finding_number_of_clusters_in_text_databases) for determining the number of clusters of text documents is given by $(m*n)/t$ where m is the number of documents, n the number of terms and t the number of non-zero entries. In our case this equals to ((82186*21892)/1647034) = 1092 clusters."
   ]
  },
  {
   "cell_type": "code",
   "execution_count": 140,
   "metadata": {
    "collapsed": false
   },
   "outputs": [
    {
     "name": "stdout",
     "output_type": "stream",
     "text": [
      "Clustering sparse data with KMeans(copy_x=True, init='k-means++', max_iter=10, n_clusters=800, n_init=1,\n",
      "    n_jobs=1, precompute_distances='auto', random_state=42, tol=0.0001,\n",
      "    verbose=1)\n",
      "Initialization complete\n",
      "Iteration  0, inertia 71449.320\n",
      "Iteration  1, inertia 49105.635\n",
      "Iteration  2, inertia 48179.501\n",
      "Iteration  3, inertia 47793.269\n",
      "Iteration  4, inertia 47596.394\n",
      "Iteration  5, inertia 47471.354\n",
      "Iteration  6, inertia 47387.999\n",
      "Iteration  7, inertia 47323.868\n",
      "Iteration  8, inertia 47270.024\n",
      "Iteration  9, inertia 47227.271\n",
      "done in 283.812s\n",
      "()\n",
      "Homogeneity: 0.589\n",
      "Completeness: 1.000\n",
      "V-measure: 0.742\n",
      "Adjusted Rand-Index: 0.052\n",
      "Silhouette Coefficient: 0.239\n",
      "()\n",
      "Clustering sparse data with KMeans(copy_x=True, init='k-means++', max_iter=10, n_clusters=1000, n_init=1,\n",
      "    n_jobs=1, precompute_distances='auto', random_state=42, tol=0.0001,\n",
      "    verbose=1)\n",
      "Initialization complete\n",
      "Iteration  0, inertia 69542.458\n",
      "Iteration  1, inertia 48151.186\n",
      "Iteration  2, inertia 47250.507\n",
      "Iteration  3, inertia 46876.730\n",
      "Iteration  4, inertia 46670.268\n",
      "Iteration  5, inertia 46545.436\n",
      "Iteration  6, inertia 46462.879\n",
      "Iteration  7, inertia 46404.014\n",
      "Iteration  8, inertia 46359.632\n",
      "Iteration  9, inertia 46326.593\n",
      "done in 396.182s\n",
      "()\n",
      "Homogeneity: 0.609\n",
      "Completeness: 1.000\n",
      "V-measure: 0.757\n",
      "Adjusted Rand-Index: 0.064\n",
      "Silhouette Coefficient: 0.295\n",
      "()\n"
     ]
    }
   ],
   "source": [
    "from sklearn.cluster import KMeans\n",
    "for k in [800, 1000]:\n",
    "    km = KMeans(n_clusters=k, init='k-means++', max_iter=10, n_init=1, random_state = 42,\n",
    "                    verbose=1)\n",
    "\n",
    "    print(\"Clustering sparse data with %s\" % km)\n",
    "    t0 = time()\n",
    "    km.fit(X_lsa)\n",
    "    print(\"done in %0.3fs\" % (time() - t0))\n",
    "    print()\n",
    "\n",
    "\n",
    "    print(\"Homogeneity: %0.3f\" % metrics.homogeneity_score(cl_df[\"interests\"], km.labels_))\n",
    "    print(\"Completeness: %0.3f\" % metrics.completeness_score(cl_df[\"interests\"], km.labels_))\n",
    "    print(\"V-measure: %0.3f\" % metrics.v_measure_score(cl_df[\"interests\"], km.labels_))\n",
    "    print(\"Adjusted Rand-Index: %.3f\"\n",
    "          % metrics.adjusted_rand_score(cl_df[\"interests\"], km.labels_))\n",
    "    print(\"Silhouette Coefficient: %0.3f\"\n",
    "          % metrics.silhouette_score(X_lsa, km.labels_, sample_size=1000))\n",
    "\n",
    "    print()\n"
   ]
  },
  {
   "cell_type": "markdown",
   "metadata": {},
   "source": [
    "After testing several values for the number of clusters it appears that setting a lower number of clusters decreases all metrics, in particular the Silhouette Coefficient. As it can be seen above going from 800 to 1000 gives a lift to the Silhouette Coefficient.\n",
    "\n",
    "Now let's find out the top interests among different clusters by using svd.inverse_transform on some random clusters' centers."
   ]
  },
  {
   "cell_type": "code",
   "execution_count": 144,
   "metadata": {
    "collapsed": false
   },
   "outputs": [
    {
     "name": "stdout",
     "output_type": "stream",
     "text": [
      "Top terms per cluster:\n",
      "Cluster 1:\n",
      " Live Music\n",
      " Concerts\n",
      " Dance Lessons\n",
      " Social Dancing\n",
      " Music\n",
      " Art\n",
      " Dancing\n",
      " Fitness\n",
      " Self-Improvement\n",
      " Dining Out\n",
      "()\n",
      "Cluster 201:\n",
      " Nutrition\n",
      " Exercise\n",
      " Fitness\n",
      " Running\n",
      " Dancing\n",
      " Group Fitness Training\n",
      " Weight Loss\n",
      " Travel\n",
      " Self-Improvement\n",
      " Outdoors\n",
      "()\n",
      "Cluster 401:\n",
      " wine-and-food-pairing\n",
      " professional-networking\n",
      " Outdoors\n",
      " Sports and Recreation\n",
      " Art\n",
      " Social\n",
      " Wellness\n",
      " dancing\n",
      " Language & Culture\n",
      " Music\n",
      "()\n",
      "Cluster 601:\n",
      " Cultural Activities\n",
      " Art\n",
      " International Travel\n",
      " Performing Arts\n",
      " Outdoors\n",
      " Travel\n",
      " Dining Out\n",
      " Fitness\n",
      " Exercise\n",
      " Yoga\n",
      "()\n"
     ]
    }
   ],
   "source": [
    "print(\"Top terms per cluster:\")\n",
    "\n",
    "original_space_centroids = svd.inverse_transform(km.cluster_centers_)\n",
    "order_centroids = original_space_centroids.argsort()[:, ::-1]\n",
    "\n",
    "terms = count_vectorizer.get_feature_names()\n",
    "for i in range(1,800, 200):\n",
    "    print(\"Cluster %d:\" % i)\n",
    "    for ind in order_centroids[i, :10]:\n",
    "        print(' %s' % terms[ind])\n",
    "    print()"
   ]
  },
  {
   "cell_type": "code",
   "execution_count": null,
   "metadata": {
    "collapsed": true
   },
   "outputs": [],
   "source": []
  }
 ],
 "metadata": {
  "anaconda-cloud": {},
  "kernelspec": {
   "display_name": "Python [Root]",
   "language": "python",
   "name": "Python [Root]"
  },
  "language_info": {
   "codemirror_mode": {
    "name": "ipython",
    "version": 2
   },
   "file_extension": ".py",
   "mimetype": "text/x-python",
   "name": "python",
   "nbconvert_exporter": "python",
   "pygments_lexer": "ipython2",
   "version": "2.7.12"
  }
 },
 "nbformat": 4,
 "nbformat_minor": 0
}
